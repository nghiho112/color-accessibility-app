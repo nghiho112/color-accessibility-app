{
  "cells": [
    {
      "cell_type": "markdown",
      "metadata": {
        "id": "view-in-github",
        "colab_type": "text"
      },
      "source": [
        "<a href=\"https://colab.research.google.com/github/nghiho112/color-accessibility-app/blob/model/Color_Classifier_Trim.ipynb\" target=\"_parent\"><img src=\"https://colab.research.google.com/assets/colab-badge.svg\" alt=\"Open In Colab\"/></a>"
      ]
    },
    {
      "cell_type": "code",
      "execution_count": null,
      "metadata": {
        "id": "zT2bBR2FfjXa"
      },
      "outputs": [],
      "source": [
        "import numpy as np\n",
        "import pandas as pd\n",
        "import seaborn as sns\n",
        "import pathlib\n",
        "import matplotlib.pyplot as plt"
      ]
    },
    {
      "cell_type": "code",
      "execution_count": null,
      "metadata": {
        "colab": {
          "base_uri": "https://localhost:8080/"
        },
        "id": "cwlXaoF3fy4e",
        "outputId": "fb6ab047-18aa-4cfe-b800-b2acc4c853ab"
      },
      "outputs": [
        {
          "output_type": "stream",
          "name": "stdout",
          "text": [
            "2.15.0\n"
          ]
        }
      ],
      "source": [
        "# Importing Tensorflow\n",
        "import tensorflow as tf\n",
        "\n",
        "from tensorflow import keras\n",
        "from tensorflow.keras import layers\n",
        "\n",
        "print(tf.__version__)"
      ]
    },
    {
      "cell_type": "code",
      "execution_count": null,
      "metadata": {
        "colab": {
          "base_uri": "https://localhost:8080/"
        },
        "id": "RJ-oQq39f6-9",
        "outputId": "7f805f30-0399-40f4-a681-a01527ed02f6"
      },
      "outputs": [
        {
          "output_type": "stream",
          "name": "stdout",
          "text": [
            "Collecting git+https://github.com/tensorflow/docs\n",
            "  Cloning https://github.com/tensorflow/docs to /tmp/pip-req-build-6xo4l8pw\n",
            "  Running command git clone --filter=blob:none --quiet https://github.com/tensorflow/docs /tmp/pip-req-build-6xo4l8pw\n",
            "  Resolved https://github.com/tensorflow/docs to commit 8b36191001b53bfce4fe15b77e243fbd7f382e41\n",
            "  Preparing metadata (setup.py) ... \u001b[?25l\u001b[?25hdone\n",
            "Collecting astor (from tensorflow-docs==2024.2.5.73858)\n",
            "  Downloading astor-0.8.1-py2.py3-none-any.whl (27 kB)\n",
            "Requirement already satisfied: absl-py in /usr/local/lib/python3.10/dist-packages (from tensorflow-docs==2024.2.5.73858) (1.4.0)\n",
            "Requirement already satisfied: jinja2 in /usr/local/lib/python3.10/dist-packages (from tensorflow-docs==2024.2.5.73858) (3.1.3)\n",
            "Requirement already satisfied: nbformat in /usr/local/lib/python3.10/dist-packages (from tensorflow-docs==2024.2.5.73858) (5.9.2)\n",
            "Requirement already satisfied: protobuf>=3.12 in /usr/local/lib/python3.10/dist-packages (from tensorflow-docs==2024.2.5.73858) (3.20.3)\n",
            "Requirement already satisfied: pyyaml in /usr/local/lib/python3.10/dist-packages (from tensorflow-docs==2024.2.5.73858) (6.0.1)\n",
            "Requirement already satisfied: MarkupSafe>=2.0 in /usr/local/lib/python3.10/dist-packages (from jinja2->tensorflow-docs==2024.2.5.73858) (2.1.5)\n",
            "Requirement already satisfied: fastjsonschema in /usr/local/lib/python3.10/dist-packages (from nbformat->tensorflow-docs==2024.2.5.73858) (2.19.1)\n",
            "Requirement already satisfied: jsonschema>=2.6 in /usr/local/lib/python3.10/dist-packages (from nbformat->tensorflow-docs==2024.2.5.73858) (4.19.2)\n",
            "Requirement already satisfied: jupyter-core in /usr/local/lib/python3.10/dist-packages (from nbformat->tensorflow-docs==2024.2.5.73858) (5.7.1)\n",
            "Requirement already satisfied: traitlets>=5.1 in /usr/local/lib/python3.10/dist-packages (from nbformat->tensorflow-docs==2024.2.5.73858) (5.7.1)\n",
            "Requirement already satisfied: attrs>=22.2.0 in /usr/local/lib/python3.10/dist-packages (from jsonschema>=2.6->nbformat->tensorflow-docs==2024.2.5.73858) (23.2.0)\n",
            "Requirement already satisfied: jsonschema-specifications>=2023.03.6 in /usr/local/lib/python3.10/dist-packages (from jsonschema>=2.6->nbformat->tensorflow-docs==2024.2.5.73858) (2023.12.1)\n",
            "Requirement already satisfied: referencing>=0.28.4 in /usr/local/lib/python3.10/dist-packages (from jsonschema>=2.6->nbformat->tensorflow-docs==2024.2.5.73858) (0.33.0)\n",
            "Requirement already satisfied: rpds-py>=0.7.1 in /usr/local/lib/python3.10/dist-packages (from jsonschema>=2.6->nbformat->tensorflow-docs==2024.2.5.73858) (0.18.0)\n",
            "Requirement already satisfied: platformdirs>=2.5 in /usr/local/lib/python3.10/dist-packages (from jupyter-core->nbformat->tensorflow-docs==2024.2.5.73858) (4.2.0)\n",
            "Building wheels for collected packages: tensorflow-docs\n",
            "  Building wheel for tensorflow-docs (setup.py) ... \u001b[?25l\u001b[?25hdone\n",
            "  Created wheel for tensorflow-docs: filename=tensorflow_docs-2024.2.5.73858-py3-none-any.whl size=182442 sha256=9cc9fbe91311c17cda5109ef45203a02bffb79f8c18e7317c0be5ae7c29ef019\n",
            "  Stored in directory: /tmp/pip-ephem-wheel-cache-1ktnhhv4/wheels/86/0f/1e/3b62293c8ffd0fd5a49508e6871cdb7554abe9c62afd35ec53\n",
            "Successfully built tensorflow-docs\n",
            "Installing collected packages: astor, tensorflow-docs\n",
            "Successfully installed astor-0.8.1 tensorflow-docs-2024.2.5.73858\n"
          ]
        }
      ],
      "source": [
        "#install this one before put everything in .py file\n",
        "!pip install git+https://github.com/tensorflow/docs # Use some functions from tensorflow_docs"
      ]
    },
    {
      "cell_type": "code",
      "execution_count": null,
      "metadata": {
        "id": "fqqAsoowgJbl"
      },
      "outputs": [],
      "source": [
        "import tensorflow_docs as tfdocs\n",
        "import tensorflow_docs.plots\n",
        "import tensorflow_docs.modeling"
      ]
    },
    {
      "cell_type": "code",
      "execution_count": null,
      "metadata": {
        "colab": {
          "base_uri": "https://localhost:8080/"
        },
        "id": "UIPMSFw1gOLa",
        "outputId": "4d26b149-94aa-430a-f68c-b324ead628a6"
      },
      "outputs": [
        {
          "output_type": "stream",
          "name": "stdout",
          "text": [
            "Requirement already satisfied: plotly in /usr/local/lib/python3.10/dist-packages (5.15.0)\n",
            "Requirement already satisfied: tenacity>=6.2.0 in /usr/local/lib/python3.10/dist-packages (from plotly) (8.2.3)\n",
            "Requirement already satisfied: packaging in /usr/local/lib/python3.10/dist-packages (from plotly) (23.2)\n"
          ]
        }
      ],
      "source": [
        "#might not need it (will be deleted)\n",
        "\n",
        "#plotly used for plotting Interactive Graphs\n",
        "!pip install plotly\n",
        "import plotly.offline as py\n",
        "import plotly.express as px\n",
        "import plotly.graph_objs as go"
      ]
    },
    {
      "cell_type": "code",
      "execution_count": null,
      "metadata": {
        "colab": {
          "base_uri": "https://localhost:8080/"
        },
        "id": "7wcdT3OVgaW2",
        "outputId": "f20a78c6-9283-484b-db2c-b3669a8145bd"
      },
      "outputs": [
        {
          "output_type": "stream",
          "name": "stdout",
          "text": [
            "Mounted at /content/drive\n"
          ]
        }
      ],
      "source": [
        "#Loading data set\n",
        "from google.colab import drive\n",
        "drive.mount('/content/drive')\n",
        "import pandas as pd\n",
        "import os"
      ]
    },
    {
      "cell_type": "code",
      "execution_count": null,
      "metadata": {
        "colab": {
          "base_uri": "https://localhost:8080/",
          "height": 419
        },
        "id": "dSMPs0Rugjsf",
        "outputId": "9bf342ad-8a53-4382-c9b3-79440a285a6a"
      },
      "outputs": [
        {
          "output_type": "execute_result",
          "data": {
            "text/plain": [
              "      red  green  blue  label\n",
              "0      20    139   240   Blue\n",
              "1     174     83    72  Brown\n",
              "2     144    249   131  Green\n",
              "3     168     25   156   Pink\n",
              "4      30    182   136  Green\n",
              "...   ...    ...   ...    ...\n",
              "5047   26     26    26  Black\n",
              "5048   27     27    27  Black\n",
              "5049   28     28    28  Black\n",
              "5050   29     29    29  Black\n",
              "5051   30     30    30  Black\n",
              "\n",
              "[5052 rows x 4 columns]"
            ],
            "text/html": [
              "\n",
              "  <div id=\"df-b46cc5ee-0307-4ab2-b31b-1f6d11ca880c\" class=\"colab-df-container\">\n",
              "    <div>\n",
              "<style scoped>\n",
              "    .dataframe tbody tr th:only-of-type {\n",
              "        vertical-align: middle;\n",
              "    }\n",
              "\n",
              "    .dataframe tbody tr th {\n",
              "        vertical-align: top;\n",
              "    }\n",
              "\n",
              "    .dataframe thead th {\n",
              "        text-align: right;\n",
              "    }\n",
              "</style>\n",
              "<table border=\"1\" class=\"dataframe\">\n",
              "  <thead>\n",
              "    <tr style=\"text-align: right;\">\n",
              "      <th></th>\n",
              "      <th>red</th>\n",
              "      <th>green</th>\n",
              "      <th>blue</th>\n",
              "      <th>label</th>\n",
              "    </tr>\n",
              "  </thead>\n",
              "  <tbody>\n",
              "    <tr>\n",
              "      <th>0</th>\n",
              "      <td>20</td>\n",
              "      <td>139</td>\n",
              "      <td>240</td>\n",
              "      <td>Blue</td>\n",
              "    </tr>\n",
              "    <tr>\n",
              "      <th>1</th>\n",
              "      <td>174</td>\n",
              "      <td>83</td>\n",
              "      <td>72</td>\n",
              "      <td>Brown</td>\n",
              "    </tr>\n",
              "    <tr>\n",
              "      <th>2</th>\n",
              "      <td>144</td>\n",
              "      <td>249</td>\n",
              "      <td>131</td>\n",
              "      <td>Green</td>\n",
              "    </tr>\n",
              "    <tr>\n",
              "      <th>3</th>\n",
              "      <td>168</td>\n",
              "      <td>25</td>\n",
              "      <td>156</td>\n",
              "      <td>Pink</td>\n",
              "    </tr>\n",
              "    <tr>\n",
              "      <th>4</th>\n",
              "      <td>30</td>\n",
              "      <td>182</td>\n",
              "      <td>136</td>\n",
              "      <td>Green</td>\n",
              "    </tr>\n",
              "    <tr>\n",
              "      <th>...</th>\n",
              "      <td>...</td>\n",
              "      <td>...</td>\n",
              "      <td>...</td>\n",
              "      <td>...</td>\n",
              "    </tr>\n",
              "    <tr>\n",
              "      <th>5047</th>\n",
              "      <td>26</td>\n",
              "      <td>26</td>\n",
              "      <td>26</td>\n",
              "      <td>Black</td>\n",
              "    </tr>\n",
              "    <tr>\n",
              "      <th>5048</th>\n",
              "      <td>27</td>\n",
              "      <td>27</td>\n",
              "      <td>27</td>\n",
              "      <td>Black</td>\n",
              "    </tr>\n",
              "    <tr>\n",
              "      <th>5049</th>\n",
              "      <td>28</td>\n",
              "      <td>28</td>\n",
              "      <td>28</td>\n",
              "      <td>Black</td>\n",
              "    </tr>\n",
              "    <tr>\n",
              "      <th>5050</th>\n",
              "      <td>29</td>\n",
              "      <td>29</td>\n",
              "      <td>29</td>\n",
              "      <td>Black</td>\n",
              "    </tr>\n",
              "    <tr>\n",
              "      <th>5051</th>\n",
              "      <td>30</td>\n",
              "      <td>30</td>\n",
              "      <td>30</td>\n",
              "      <td>Black</td>\n",
              "    </tr>\n",
              "  </tbody>\n",
              "</table>\n",
              "<p>5052 rows × 4 columns</p>\n",
              "</div>\n",
              "    <div class=\"colab-df-buttons\">\n",
              "\n",
              "  <div class=\"colab-df-container\">\n",
              "    <button class=\"colab-df-convert\" onclick=\"convertToInteractive('df-b46cc5ee-0307-4ab2-b31b-1f6d11ca880c')\"\n",
              "            title=\"Convert this dataframe to an interactive table.\"\n",
              "            style=\"display:none;\">\n",
              "\n",
              "  <svg xmlns=\"http://www.w3.org/2000/svg\" height=\"24px\" viewBox=\"0 -960 960 960\">\n",
              "    <path d=\"M120-120v-720h720v720H120Zm60-500h600v-160H180v160Zm220 220h160v-160H400v160Zm0 220h160v-160H400v160ZM180-400h160v-160H180v160Zm440 0h160v-160H620v160ZM180-180h160v-160H180v160Zm440 0h160v-160H620v160Z\"/>\n",
              "  </svg>\n",
              "    </button>\n",
              "\n",
              "  <style>\n",
              "    .colab-df-container {\n",
              "      display:flex;\n",
              "      gap: 12px;\n",
              "    }\n",
              "\n",
              "    .colab-df-convert {\n",
              "      background-color: #E8F0FE;\n",
              "      border: none;\n",
              "      border-radius: 50%;\n",
              "      cursor: pointer;\n",
              "      display: none;\n",
              "      fill: #1967D2;\n",
              "      height: 32px;\n",
              "      padding: 0 0 0 0;\n",
              "      width: 32px;\n",
              "    }\n",
              "\n",
              "    .colab-df-convert:hover {\n",
              "      background-color: #E2EBFA;\n",
              "      box-shadow: 0px 1px 2px rgba(60, 64, 67, 0.3), 0px 1px 3px 1px rgba(60, 64, 67, 0.15);\n",
              "      fill: #174EA6;\n",
              "    }\n",
              "\n",
              "    .colab-df-buttons div {\n",
              "      margin-bottom: 4px;\n",
              "    }\n",
              "\n",
              "    [theme=dark] .colab-df-convert {\n",
              "      background-color: #3B4455;\n",
              "      fill: #D2E3FC;\n",
              "    }\n",
              "\n",
              "    [theme=dark] .colab-df-convert:hover {\n",
              "      background-color: #434B5C;\n",
              "      box-shadow: 0px 1px 3px 1px rgba(0, 0, 0, 0.15);\n",
              "      filter: drop-shadow(0px 1px 2px rgba(0, 0, 0, 0.3));\n",
              "      fill: #FFFFFF;\n",
              "    }\n",
              "  </style>\n",
              "\n",
              "    <script>\n",
              "      const buttonEl =\n",
              "        document.querySelector('#df-b46cc5ee-0307-4ab2-b31b-1f6d11ca880c button.colab-df-convert');\n",
              "      buttonEl.style.display =\n",
              "        google.colab.kernel.accessAllowed ? 'block' : 'none';\n",
              "\n",
              "      async function convertToInteractive(key) {\n",
              "        const element = document.querySelector('#df-b46cc5ee-0307-4ab2-b31b-1f6d11ca880c');\n",
              "        const dataTable =\n",
              "          await google.colab.kernel.invokeFunction('convertToInteractive',\n",
              "                                                    [key], {});\n",
              "        if (!dataTable) return;\n",
              "\n",
              "        const docLinkHtml = 'Like what you see? Visit the ' +\n",
              "          '<a target=\"_blank\" href=https://colab.research.google.com/notebooks/data_table.ipynb>data table notebook</a>'\n",
              "          + ' to learn more about interactive tables.';\n",
              "        element.innerHTML = '';\n",
              "        dataTable['output_type'] = 'display_data';\n",
              "        await google.colab.output.renderOutput(dataTable, element);\n",
              "        const docLink = document.createElement('div');\n",
              "        docLink.innerHTML = docLinkHtml;\n",
              "        element.appendChild(docLink);\n",
              "      }\n",
              "    </script>\n",
              "  </div>\n",
              "\n",
              "\n",
              "<div id=\"df-9756a4e1-f54a-49ac-b0fe-6dd445801198\">\n",
              "  <button class=\"colab-df-quickchart\" onclick=\"quickchart('df-9756a4e1-f54a-49ac-b0fe-6dd445801198')\"\n",
              "            title=\"Suggest charts\"\n",
              "            style=\"display:none;\">\n",
              "\n",
              "<svg xmlns=\"http://www.w3.org/2000/svg\" height=\"24px\"viewBox=\"0 0 24 24\"\n",
              "     width=\"24px\">\n",
              "    <g>\n",
              "        <path d=\"M19 3H5c-1.1 0-2 .9-2 2v14c0 1.1.9 2 2 2h14c1.1 0 2-.9 2-2V5c0-1.1-.9-2-2-2zM9 17H7v-7h2v7zm4 0h-2V7h2v10zm4 0h-2v-4h2v4z\"/>\n",
              "    </g>\n",
              "</svg>\n",
              "  </button>\n",
              "\n",
              "<style>\n",
              "  .colab-df-quickchart {\n",
              "      --bg-color: #E8F0FE;\n",
              "      --fill-color: #1967D2;\n",
              "      --hover-bg-color: #E2EBFA;\n",
              "      --hover-fill-color: #174EA6;\n",
              "      --disabled-fill-color: #AAA;\n",
              "      --disabled-bg-color: #DDD;\n",
              "  }\n",
              "\n",
              "  [theme=dark] .colab-df-quickchart {\n",
              "      --bg-color: #3B4455;\n",
              "      --fill-color: #D2E3FC;\n",
              "      --hover-bg-color: #434B5C;\n",
              "      --hover-fill-color: #FFFFFF;\n",
              "      --disabled-bg-color: #3B4455;\n",
              "      --disabled-fill-color: #666;\n",
              "  }\n",
              "\n",
              "  .colab-df-quickchart {\n",
              "    background-color: var(--bg-color);\n",
              "    border: none;\n",
              "    border-radius: 50%;\n",
              "    cursor: pointer;\n",
              "    display: none;\n",
              "    fill: var(--fill-color);\n",
              "    height: 32px;\n",
              "    padding: 0;\n",
              "    width: 32px;\n",
              "  }\n",
              "\n",
              "  .colab-df-quickchart:hover {\n",
              "    background-color: var(--hover-bg-color);\n",
              "    box-shadow: 0 1px 2px rgba(60, 64, 67, 0.3), 0 1px 3px 1px rgba(60, 64, 67, 0.15);\n",
              "    fill: var(--button-hover-fill-color);\n",
              "  }\n",
              "\n",
              "  .colab-df-quickchart-complete:disabled,\n",
              "  .colab-df-quickchart-complete:disabled:hover {\n",
              "    background-color: var(--disabled-bg-color);\n",
              "    fill: var(--disabled-fill-color);\n",
              "    box-shadow: none;\n",
              "  }\n",
              "\n",
              "  .colab-df-spinner {\n",
              "    border: 2px solid var(--fill-color);\n",
              "    border-color: transparent;\n",
              "    border-bottom-color: var(--fill-color);\n",
              "    animation:\n",
              "      spin 1s steps(1) infinite;\n",
              "  }\n",
              "\n",
              "  @keyframes spin {\n",
              "    0% {\n",
              "      border-color: transparent;\n",
              "      border-bottom-color: var(--fill-color);\n",
              "      border-left-color: var(--fill-color);\n",
              "    }\n",
              "    20% {\n",
              "      border-color: transparent;\n",
              "      border-left-color: var(--fill-color);\n",
              "      border-top-color: var(--fill-color);\n",
              "    }\n",
              "    30% {\n",
              "      border-color: transparent;\n",
              "      border-left-color: var(--fill-color);\n",
              "      border-top-color: var(--fill-color);\n",
              "      border-right-color: var(--fill-color);\n",
              "    }\n",
              "    40% {\n",
              "      border-color: transparent;\n",
              "      border-right-color: var(--fill-color);\n",
              "      border-top-color: var(--fill-color);\n",
              "    }\n",
              "    60% {\n",
              "      border-color: transparent;\n",
              "      border-right-color: var(--fill-color);\n",
              "    }\n",
              "    80% {\n",
              "      border-color: transparent;\n",
              "      border-right-color: var(--fill-color);\n",
              "      border-bottom-color: var(--fill-color);\n",
              "    }\n",
              "    90% {\n",
              "      border-color: transparent;\n",
              "      border-bottom-color: var(--fill-color);\n",
              "    }\n",
              "  }\n",
              "</style>\n",
              "\n",
              "  <script>\n",
              "    async function quickchart(key) {\n",
              "      const quickchartButtonEl =\n",
              "        document.querySelector('#' + key + ' button');\n",
              "      quickchartButtonEl.disabled = true;  // To prevent multiple clicks.\n",
              "      quickchartButtonEl.classList.add('colab-df-spinner');\n",
              "      try {\n",
              "        const charts = await google.colab.kernel.invokeFunction(\n",
              "            'suggestCharts', [key], {});\n",
              "      } catch (error) {\n",
              "        console.error('Error during call to suggestCharts:', error);\n",
              "      }\n",
              "      quickchartButtonEl.classList.remove('colab-df-spinner');\n",
              "      quickchartButtonEl.classList.add('colab-df-quickchart-complete');\n",
              "    }\n",
              "    (() => {\n",
              "      let quickchartButtonEl =\n",
              "        document.querySelector('#df-9756a4e1-f54a-49ac-b0fe-6dd445801198 button');\n",
              "      quickchartButtonEl.style.display =\n",
              "        google.colab.kernel.accessAllowed ? 'block' : 'none';\n",
              "    })();\n",
              "  </script>\n",
              "</div>\n",
              "\n",
              "  <div id=\"id_1e2f5566-f46f-430f-826f-526cd1a49b1e\">\n",
              "    <style>\n",
              "      .colab-df-generate {\n",
              "        background-color: #E8F0FE;\n",
              "        border: none;\n",
              "        border-radius: 50%;\n",
              "        cursor: pointer;\n",
              "        display: none;\n",
              "        fill: #1967D2;\n",
              "        height: 32px;\n",
              "        padding: 0 0 0 0;\n",
              "        width: 32px;\n",
              "      }\n",
              "\n",
              "      .colab-df-generate:hover {\n",
              "        background-color: #E2EBFA;\n",
              "        box-shadow: 0px 1px 2px rgba(60, 64, 67, 0.3), 0px 1px 3px 1px rgba(60, 64, 67, 0.15);\n",
              "        fill: #174EA6;\n",
              "      }\n",
              "\n",
              "      [theme=dark] .colab-df-generate {\n",
              "        background-color: #3B4455;\n",
              "        fill: #D2E3FC;\n",
              "      }\n",
              "\n",
              "      [theme=dark] .colab-df-generate:hover {\n",
              "        background-color: #434B5C;\n",
              "        box-shadow: 0px 1px 3px 1px rgba(0, 0, 0, 0.15);\n",
              "        filter: drop-shadow(0px 1px 2px rgba(0, 0, 0, 0.3));\n",
              "        fill: #FFFFFF;\n",
              "      }\n",
              "    </style>\n",
              "    <button class=\"colab-df-generate\" onclick=\"generateWithVariable('dataset')\"\n",
              "            title=\"Generate code using this dataframe.\"\n",
              "            style=\"display:none;\">\n",
              "\n",
              "  <svg xmlns=\"http://www.w3.org/2000/svg\" height=\"24px\"viewBox=\"0 0 24 24\"\n",
              "       width=\"24px\">\n",
              "    <path d=\"M7,19H8.4L18.45,9,17,7.55,7,17.6ZM5,21V16.75L18.45,3.32a2,2,0,0,1,2.83,0l1.4,1.43a1.91,1.91,0,0,1,.58,1.4,1.91,1.91,0,0,1-.58,1.4L9.25,21ZM18.45,9,17,7.55Zm-12,3A5.31,5.31,0,0,0,4.9,8.1,5.31,5.31,0,0,0,1,6.5,5.31,5.31,0,0,0,4.9,4.9,5.31,5.31,0,0,0,6.5,1,5.31,5.31,0,0,0,8.1,4.9,5.31,5.31,0,0,0,12,6.5,5.46,5.46,0,0,0,6.5,12Z\"/>\n",
              "  </svg>\n",
              "    </button>\n",
              "    <script>\n",
              "      (() => {\n",
              "      const buttonEl =\n",
              "        document.querySelector('#id_1e2f5566-f46f-430f-826f-526cd1a49b1e button.colab-df-generate');\n",
              "      buttonEl.style.display =\n",
              "        google.colab.kernel.accessAllowed ? 'block' : 'none';\n",
              "\n",
              "      buttonEl.onclick = () => {\n",
              "        google.colab.notebook.generateWithVariable('dataset');\n",
              "      }\n",
              "      })();\n",
              "    </script>\n",
              "  </div>\n",
              "\n",
              "    </div>\n",
              "  </div>\n"
            ],
            "application/vnd.google.colaboratory.intrinsic+json": {
              "type": "dataframe",
              "variable_name": "dataset",
              "summary": "{\n  \"name\": \"dataset\",\n  \"rows\": 5052,\n  \"fields\": [\n    {\n      \"column\": \"red\",\n      \"properties\": {\n        \"dtype\": \"number\",\n        \"std\": 73,\n        \"min\": 0,\n        \"max\": 255,\n        \"num_unique_values\": 256,\n        \"samples\": [\n          225,\n          231,\n          153\n        ],\n        \"semantic_type\": \"\",\n        \"description\": \"\"\n      }\n    },\n    {\n      \"column\": \"green\",\n      \"properties\": {\n        \"dtype\": \"number\",\n        \"std\": 74,\n        \"min\": 0,\n        \"max\": 255,\n        \"num_unique_values\": 256,\n        \"samples\": [\n          209,\n          93,\n          17\n        ],\n        \"semantic_type\": \"\",\n        \"description\": \"\"\n      }\n    },\n    {\n      \"column\": \"blue\",\n      \"properties\": {\n        \"dtype\": \"number\",\n        \"std\": 74,\n        \"min\": 0,\n        \"max\": 255,\n        \"num_unique_values\": 256,\n        \"samples\": [\n          193,\n          154,\n          99\n        ],\n        \"semantic_type\": \"\",\n        \"description\": \"\"\n      }\n    },\n    {\n      \"column\": \"label\",\n      \"properties\": {\n        \"dtype\": \"category\",\n        \"num_unique_values\": 11,\n        \"samples\": [\n          \"Orange\",\n          \"Blue\",\n          \"White\"\n        ],\n        \"semantic_type\": \"\",\n        \"description\": \"\"\n      }\n    }\n  ]\n}"
            }
          },
          "metadata": {},
          "execution_count": 7
        }
      ],
      "source": [
        "data_path = '/content/drive/MyDrive/Color/final_data.csv'\n",
        "\n",
        "if not os.path.exists(data_path):\n",
        "  print(\"The path doesn't exist!\")\n",
        "\n",
        "dataset = pd.read_csv(data_path)\n",
        "dataset"
      ]
    },
    {
      "cell_type": "code",
      "execution_count": null,
      "metadata": {
        "colab": {
          "base_uri": "https://localhost:8080/"
        },
        "id": "U62erzNfgnet",
        "outputId": "da4ebf08-0405-4024-e9b2-ee4c05bdbf03"
      },
      "outputs": [
        {
          "output_type": "stream",
          "name": "stdout",
          "text": [
            "      red  green  blue  label_Red  label_Green  label_Blue  label_Yellow  \\\n",
            "0      20    139   240          0            0           1             0   \n",
            "1     174     83    72          0            0           0             0   \n",
            "2     144    249   131          0            1           0             0   \n",
            "3     168     25   156          0            0           0             0   \n",
            "4      30    182   136          0            1           0             0   \n",
            "...   ...    ...   ...        ...          ...         ...           ...   \n",
            "5047   26     26    26          0            0           0             0   \n",
            "5048   27     27    27          0            0           0             0   \n",
            "5049   28     28    28          0            0           0             0   \n",
            "5050   29     29    29          0            0           0             0   \n",
            "5051   30     30    30          0            0           0             0   \n",
            "\n",
            "      label_Orange  label_Pink  label_Purple  label_Brown  label_Grey  \\\n",
            "0                0           0             0            0           0   \n",
            "1                0           0             0            1           0   \n",
            "2                0           0             0            0           0   \n",
            "3                0           1             0            0           0   \n",
            "4                0           0             0            0           0   \n",
            "...            ...         ...           ...          ...         ...   \n",
            "5047             0           0             0            0           0   \n",
            "5048             0           0             0            0           0   \n",
            "5049             0           0             0            0           0   \n",
            "5050             0           0             0            0           0   \n",
            "5051             0           0             0            0           0   \n",
            "\n",
            "      label_Black  label_White  \n",
            "0               0            0  \n",
            "1               0            0  \n",
            "2               0            0  \n",
            "3               0            0  \n",
            "4               0            0  \n",
            "...           ...          ...  \n",
            "5047            1            0  \n",
            "5048            1            0  \n",
            "5049            1            0  \n",
            "5050            1            0  \n",
            "5051            1            0  \n",
            "\n",
            "[5052 rows x 14 columns]\n",
            "      red  green  blue  label_Red  label_Green  label_Blue  label_Yellow  \\\n",
            "4185  189    148   192          0            0           0             0   \n",
            "3378  178    251    22          0            0           0             1   \n",
            "2744   54      9   125          0            0           1             0   \n",
            "968   119    147    60          0            1           0             0   \n",
            "2286  230    161   233          0            0           0             0   \n",
            "...   ...    ...   ...        ...          ...         ...           ...   \n",
            "1883  223    157   205          0            0           0             0   \n",
            "3707  203      8    10          1            0           0             0   \n",
            "881   154    153   123          0            0           0             0   \n",
            "1352  151    141   236          0            0           0             0   \n",
            "4552  236    222    32          0            0           0             1   \n",
            "\n",
            "      label_Orange  label_Pink  label_Purple  label_Brown  label_Grey  \\\n",
            "4185             0           0             1            0           0   \n",
            "3378             0           0             0            0           0   \n",
            "2744             0           0             0            0           0   \n",
            "968              0           0             0            0           0   \n",
            "2286             0           1             0            0           0   \n",
            "...            ...         ...           ...          ...         ...   \n",
            "1883             0           0             1            0           0   \n",
            "3707             0           0             0            0           0   \n",
            "881              0           0             0            0           1   \n",
            "1352             0           0             1            0           0   \n",
            "4552             0           0             0            0           0   \n",
            "\n",
            "      label_Black  label_White  \n",
            "4185            0            0  \n",
            "3378            0            0  \n",
            "2744            0            0  \n",
            "968             0            0  \n",
            "2286            0            0  \n",
            "...           ...          ...  \n",
            "1883            0            0  \n",
            "3707            0            0  \n",
            "881             0            0  \n",
            "1352            0            0  \n",
            "4552            0            0  \n",
            "\n",
            "[4042 rows x 14 columns]\n"
          ]
        }
      ],
      "source": [
        "#preprocessing dataset\n",
        "\n",
        "#To find whether null entries are present\n",
        "dataset.isnull().sum()\n",
        "\n",
        "\n",
        "#One-hot-encoding to convert categirical data int numerric data\n",
        "dataset.label.unique()\n",
        "dataset = pd.get_dummies(dataset, columns=['label'])\n",
        "#dataset\n",
        "\n",
        "\n",
        "#reorder\n",
        "dataset.columns\n",
        "dataset = dataset[['red', 'green', 'blue', 'label_Red', 'label_Green', 'label_Blue', 'label_Yellow', 'label_Orange', 'label_Pink', 'label_Purple', 'label_Brown', 'label_Grey', 'label_Black', 'label_White']]\n",
        "print(dataset)\n",
        "\n",
        "#split data into training and testing set\n",
        "train_dataset = dataset.sample(frac=0.8, random_state=8) #train = 80%,  random_state = any int value means every time when you run your program you will get the same output for train and test dataset, random_state is None by default which means every time when you run your program you will get different output because of splitting between train and test varies within\n",
        "test_dataset = dataset.drop(train_dataset.index) #remove train_dataset from dataframe to get test_dataset\n",
        "print(train_dataset)\n",
        "\n",
        "#split features: red-green-blue and labels\n",
        "train_labels = pd.DataFrame([train_dataset.pop(x) for x in ['label_Red', 'label_Green', 'label_Blue', 'label_Yellow', 'label_Orange', 'label_Pink', 'label_Purple', 'label_Brown', 'label_Grey', 'label_Black', 'label_White']]).T\n",
        "#print(train_label)\n",
        "\n",
        "test_labels = pd.DataFrame([test_dataset.pop(x) for x in ['label_Red', 'label_Green', 'label_Blue', 'label_Yellow', 'label_Orange', 'label_Pink', 'label_Purple', 'label_Brown', 'label_Grey', 'label_Black', 'label_White']]).T\n",
        "\n",
        "\n"
      ]
    },
    {
      "cell_type": "markdown",
      "metadata": {
        "id": "ijUMA8M-0soC"
      },
      "source": [
        "#Try decision tree + Random forest"
      ]
    },
    {
      "cell_type": "code",
      "execution_count": null,
      "metadata": {
        "id": "Q_Ocpb8B17jQ"
      },
      "outputs": [],
      "source": [
        "#normalize data\n",
        "from sklearn.preprocessing import MinMaxScaler, StandardScaler\n",
        "scaler = StandardScaler()\n",
        "\n",
        "train_dataset_x = scaler.fit_transform(train_dataset)\n",
        "train_dataset_x\n",
        "test_dataset_x = scaler.transform(test_dataset)\n",
        "\n"
      ]
    },
    {
      "cell_type": "code",
      "execution_count": null,
      "metadata": {
        "colab": {
          "base_uri": "https://localhost:8080/"
        },
        "id": "V0clndcz0sSL",
        "outputId": "11a4a427-7a42-41d4-e7ce-6f66d0a71ac8"
      },
      "outputs": [
        {
          "output_type": "stream",
          "name": "stdout",
          "text": [
            "Decision Tree Accuracy: 0.8118811881188119\n"
          ]
        }
      ],
      "source": [
        "from sklearn.tree import DecisionTreeClassifier\n",
        "from sklearn.metrics import accuracy_score\n",
        "\n",
        "# Initialize the model\n",
        "decision_tree = DecisionTreeClassifier(random_state=8)\n",
        "\n",
        "# Fit the model on the training data\n",
        "decision_tree.fit(train_dataset, train_labels)\n",
        "\n",
        "# Predict on the test data\n",
        "dt_predictions = decision_tree.predict(test_dataset)\n",
        "\n",
        "# Calculate the accuracy\n",
        "dt_accuracy = accuracy_score(test_labels, dt_predictions)\n",
        "print(\"Decision Tree Accuracy:\", dt_accuracy)\n"
      ]
    },
    {
      "cell_type": "code",
      "execution_count": null,
      "metadata": {
        "colab": {
          "background_save": true
        },
        "id": "P6sWQ8Y10p8V",
        "outputId": "48c644a2-3a5a-4c68-e524-51586378a3eb"
      },
      "outputs": [
        {
          "name": "stderr",
          "output_type": "stream",
          "text": [
            "/usr/local/lib/python3.10/dist-packages/sklearn/ensemble/_forest.py:424: FutureWarning: `max_features='auto'` has been deprecated in 1.1 and will be removed in 1.3. To keep the past behaviour, explicitly set `max_features='sqrt'` or remove this parameter as it is also the default value for RandomForestClassifiers and ExtraTreesClassifiers.\n",
            "  warn(\n"
          ]
        },
        {
          "name": "stdout",
          "output_type": "stream",
          "text": [
            "Random Forest Accuracy: 0.8316831683168316\n"
          ]
        }
      ],
      "source": [
        "from sklearn.ensemble import RandomForestClassifier\n",
        "from sklearn.metrics import accuracy_score\n",
        "from sklearn.model_selection import GridSearchCV\n",
        "from keras.callbacks import EarlyStopping, ModelCheckpoint\n",
        "\n",
        "#parameter grid\n",
        "param_grid = {\n",
        "    'n_estimators': [100, 200, 300],\n",
        "    'max_depth': [None, 10, 20, 30],\n",
        "    'min_samples_split': [2, 5, 10],\n",
        "    'min_samples_leaf': [1, 2, 4],\n",
        "    'max_features': ['auto', 'sqrt'],\n",
        "\n",
        "}\n",
        "\n",
        "\n",
        "# Initialize the model\n",
        "random_forest = RandomForestClassifier(random_state=8)\n",
        "\n",
        "# early_stopping = EarlyStopping(monitor='val_loss', patience=10, restore_best_weights=True)\n",
        "\n",
        "grid_search = GridSearchCV(estimator=random_forest, param_grid= param_grid, cv =3, n_jobs =-1, verbose =0, scoring = 'accuracy' )\n",
        "\n",
        "\n",
        "# Fit the model on the training data\n",
        "grid_search.fit(train_dataset_x, train_labels)\n",
        "\n",
        "best_param = grid_search.best_estimator_\n",
        "# Predict on the test data\n",
        "rf_predictions = best_param.predict(test_dataset_x)\n",
        "\n",
        "# Calculate the accuracy\n",
        "rf_accuracy = accuracy_score(test_labels, rf_predictions)\n",
        "print(\"Random Forest Accuracy:\", rf_accuracy)\n"
      ]
    },
    {
      "cell_type": "code",
      "execution_count": null,
      "metadata": {
        "colab": {
          "base_uri": "https://localhost:8080/",
          "height": 224
        },
        "id": "Rrv3Fiv7sb3Q",
        "outputId": "fc9b6442-0c57-48bd-b82a-7891ed6b0fd9"
      },
      "outputs": [
        {
          "ename": "TypeError",
          "evalue": "GridSearchCV.__init__() got an unexpected keyword argument 'callbacks'",
          "output_type": "error",
          "traceback": [
            "\u001b[0;31m---------------------------------------------------------------------------\u001b[0m",
            "\u001b[0;31mTypeError\u001b[0m                                 Traceback (most recent call last)",
            "\u001b[0;32m<ipython-input-35-c00584936ae4>\u001b[0m in \u001b[0;36m<cell line: 22>\u001b[0;34m()\u001b[0m\n\u001b[1;32m     20\u001b[0m \u001b[0;34m\u001b[0m\u001b[0m\n\u001b[1;32m     21\u001b[0m \u001b[0;31m# Create the GridSearchCV object with early stopping\u001b[0m\u001b[0;34m\u001b[0m\u001b[0;34m\u001b[0m\u001b[0m\n\u001b[0;32m---> 22\u001b[0;31m \u001b[0mgrid_search\u001b[0m \u001b[0;34m=\u001b[0m \u001b[0mGridSearchCV\u001b[0m\u001b[0;34m(\u001b[0m\u001b[0mestimator\u001b[0m\u001b[0;34m=\u001b[0m\u001b[0mrandom_forest\u001b[0m\u001b[0;34m,\u001b[0m \u001b[0mparam_grid\u001b[0m\u001b[0;34m=\u001b[0m\u001b[0mparam_grid\u001b[0m\u001b[0;34m,\u001b[0m \u001b[0mcv\u001b[0m\u001b[0;34m=\u001b[0m\u001b[0;36m3\u001b[0m\u001b[0;34m,\u001b[0m \u001b[0mn_jobs\u001b[0m\u001b[0;34m=\u001b[0m\u001b[0;34m-\u001b[0m\u001b[0;36m1\u001b[0m\u001b[0;34m,\u001b[0m \u001b[0mverbose\u001b[0m\u001b[0;34m=\u001b[0m\u001b[0;36m0\u001b[0m\u001b[0;34m,\u001b[0m \u001b[0mscoring\u001b[0m\u001b[0;34m=\u001b[0m\u001b[0;34m'accuracy'\u001b[0m\u001b[0;34m,\u001b[0m \u001b[0mcallbacks\u001b[0m\u001b[0;34m=\u001b[0m\u001b[0;34m[\u001b[0m\u001b[0mearly_stopping\u001b[0m\u001b[0;34m]\u001b[0m\u001b[0;34m)\u001b[0m\u001b[0;34m\u001b[0m\u001b[0;34m\u001b[0m\u001b[0m\n\u001b[0m\u001b[1;32m     23\u001b[0m \u001b[0;34m\u001b[0m\u001b[0m\n\u001b[1;32m     24\u001b[0m \u001b[0;31m# Fit the model on the training data\u001b[0m\u001b[0;34m\u001b[0m\u001b[0;34m\u001b[0m\u001b[0m\n",
            "\u001b[0;31mTypeError\u001b[0m: GridSearchCV.__init__() got an unexpected keyword argument 'callbacks'"
          ]
        }
      ],
      "source": [
        "from sklearn.ensemble import RandomForestClassifier\n",
        "from sklearn.metrics import accuracy_score\n",
        "from sklearn.model_selection import GridSearchCV\n",
        "from keras.callbacks import EarlyStopping, ModelCheckpoint\n",
        "\n",
        "# Define the parameter grid\n",
        "param_grid = {\n",
        "    'n_estimators': [100, 200, 300],\n",
        "    'max_depth': [None, 10, 20, 30],\n",
        "    'min_samples_split': [2, 5, 10],\n",
        "    'min_samples_leaf': [1, 2, 4],\n",
        "    'max_features': ['auto', 'sqrt']\n",
        "}\n",
        "\n",
        "# Initialize the model\n",
        "random_forest = RandomForestClassifier(random_state=8)\n",
        "\n",
        "# Define the early stopping callback\n",
        "early_stopping = EarlyStopping(monitor='val_loss', patience=10, restore_best_weights=True)\n",
        "\n",
        "# Create the GridSearchCV object with early stopping\n",
        "grid_search = GridSearchCV(estimator=random_forest, param_grid=param_grid, cv=3, n_jobs=-1, verbose=0, scoring='accuracy', callbacks=[early_stopping])\n",
        "\n",
        "# Fit the model on the training data\n",
        "grid_search.fit(train_dataset_x, train_labels)\n",
        "\n",
        "# Predict on the test data\n",
        "rf_predictions = grid_search.best_estimator_.predict(test_dataset_x)\n",
        "\n",
        "# Calculate the accuracy\n",
        "rf_accuracy = accuracy_score(test_labels, rf_predictions)\n",
        "print(\"Random Forest Accuracy:\", rf_accuracy)"
      ]
    },
    {
      "cell_type": "markdown",
      "metadata": {
        "id": "dDxvqFYS0VZd"
      },
      "source": [
        "#ANN Modoel"
      ]
    },
    {
      "cell_type": "code",
      "execution_count": null,
      "metadata": {
        "colab": {
          "base_uri": "https://localhost:8080/",
          "height": 207
        },
        "id": "7EabmsCz8gem",
        "outputId": "0a6ea60f-d9c1-46c0-9707-baa2526ef503"
      },
      "outputs": [
        {
          "ename": "NameError",
          "evalue": "name 'Adam' is not defined",
          "output_type": "error",
          "traceback": [
            "\u001b[0;31m---------------------------------------------------------------------------\u001b[0m",
            "\u001b[0;31mNameError\u001b[0m                                 Traceback (most recent call last)",
            "\u001b[0;32m<ipython-input-13-4cfc51f7e6f7>\u001b[0m in \u001b[0;36m<cell line: 24>\u001b[0;34m()\u001b[0m\n\u001b[1;32m     22\u001b[0m \u001b[0;34m\u001b[0m\u001b[0m\n\u001b[1;32m     23\u001b[0m \u001b[0;34m\u001b[0m\u001b[0m\n\u001b[0;32m---> 24\u001b[0;31m \u001b[0moptimizer\u001b[0m \u001b[0;34m=\u001b[0m \u001b[0mAdam\u001b[0m\u001b[0;34m(\u001b[0m\u001b[0mlearning_rate\u001b[0m\u001b[0;34m=\u001b[0m\u001b[0;36m0.001\u001b[0m\u001b[0;34m)\u001b[0m\u001b[0;34m\u001b[0m\u001b[0;34m\u001b[0m\u001b[0m\n\u001b[0m\u001b[1;32m     25\u001b[0m \u001b[0mloss_function\u001b[0m \u001b[0;34m=\u001b[0m \u001b[0mCategoricalCrossentropy\u001b[0m\u001b[0;34m(\u001b[0m\u001b[0mfrom_logits\u001b[0m\u001b[0;34m=\u001b[0m\u001b[0;32mTrue\u001b[0m\u001b[0;34m)\u001b[0m\u001b[0;34m\u001b[0m\u001b[0;34m\u001b[0m\u001b[0m\n\u001b[1;32m     26\u001b[0m \u001b[0;34m\u001b[0m\u001b[0m\n",
            "\u001b[0;31mNameError\u001b[0m: name 'Adam' is not defined"
          ]
        }
      ],
      "source": [
        "#try optimize param\n",
        "import tensorflow as tf\n",
        "from tensorflow import keras\n",
        "from tensorflow.keras import layers, regularizers\n",
        "from keras.layers import Dropout, BatchNormalization\n",
        "\n",
        "model = keras.Sequential([\n",
        "    layers.Dense(3, kernel_regularizer=regularizers.l2(0.001), activation='relu', input_shape=[len(train_dataset.keys())]),\n",
        "    BatchNormalization(),\n",
        "    Dropout(0.2),\n",
        "    layers.Dense(24, kernel_regularizer=regularizers.l2(0.001), activation='relu'),\n",
        "    BatchNormalization(),\n",
        "    Dropout(0.2),\n",
        "    layers.Dense(24, kernel_regularizer=regularizers.l2(0.001), activation='relu'),\n",
        "    BatchNormalization(),\n",
        "    Dropout(0.2),\n",
        "    layers.Dense(16, kernel_regularizer=regularizers.l2(0.001), activation='relu'),\n",
        "    BatchNormalization(),\n",
        "    Dropout(0.2),\n",
        "    layers.Dense(11)\n",
        "])\n",
        "\n",
        "\n",
        "\n"
      ]
    },
    {
      "cell_type": "code",
      "execution_count": null,
      "metadata": {
        "colab": {
          "base_uri": "https://localhost:8080/",
          "height": 978
        },
        "id": "DvJzBVq082_u",
        "outputId": "12dec409-5fca-4095-95b5-705dd8257d05"
      },
      "outputs": [
        {
          "name": "stdout",
          "output_type": "stream",
          "text": [
            "\n",
            "Epoch: 0, accuracy:0.7046,  loss:0.7435,  val_accuracy:0.7812,  val_loss:0.5674,  \n",
            "................."
          ]
        },
        {
          "data": {
            "image/png": "[encoded data removed]",
            "text/plain": [
              "<Figure size 640x480 with 1 Axes>"
            ]
          },
          "metadata": {},
          "output_type": "display_data"
        },
        {
          "data": {
            "image/png": "[encoded data removed]",
            "text/plain": [
              "<Figure size 640x480 with 1 Axes>"
            ]
          },
          "metadata": {},
          "output_type": "display_data"
        }
      ],
      "source": [
        "from keras.callbacks import EarlyStopping, ModelCheckpoint\n",
        "from keras.optimizers import Adam\n",
        "from keras.losses import CategoricalCrossentropy\n",
        "import matplotlib.pyplot as plt\n",
        "\n",
        "# Assuming the model is defined somewhere above this snippet\n",
        "optimizer = Adam(learning_rate=0.001)\n",
        "loss_function = CategoricalCrossentropy(from_logits=True)\n",
        "\n",
        "model.compile(optimizer=optimizer, loss=loss_function, metrics=['accuracy'])\n",
        "\n",
        "early_stopping = EarlyStopping(monitor='val_loss', patience=10, restore_best_weights=True)\n",
        "#model_checkpoint = ModelCheckpoint( monitor='val_loss', verbose=0)\n",
        "\n",
        "history = model.fit(x=train_dataset, y=train_labels, validation_split=0.2, epochs=3000, batch_size=2048,callbacks=[tfdocs.modeling.EpochDots(), early_stopping],verbose=0, shuffle=True)\n",
        "\n",
        "# Plot accuracy\n",
        "plt.plot(history.history['accuracy'])\n",
        "plt.plot(history.history['val_accuracy'])\n",
        "plt.title('Model accuracy')\n",
        "plt.ylabel('Accuracy')\n",
        "plt.xlabel('Epoch')\n",
        "plt.legend(['Train', 'Validation'], loc='upper left')\n",
        "plt.show()\n",
        "\n",
        "# Plot loss\n",
        "plt.plot(history.history['loss'])\n",
        "plt.plot(history.history['val_loss'])\n",
        "plt.title('Model loss')\n",
        "plt.ylabel('Loss')\n",
        "plt.xlabel('Epoch')\n",
        "plt.legend(['Train', 'Validation'], loc='upper left')\n",
        "plt.show()\n"
      ]
    },
    {
      "cell_type": "code",
      "execution_count": null,
      "metadata": {
        "id": "Ly7D5ZTgiDtl"
      },
      "outputs": [],
      "source": [
        "\n",
        "#build model and compile\n",
        "\n",
        "from keras import regularizers\n",
        "model = keras.Sequential([\n",
        "    layers.Dense(3, kernel_regularizer=regularizers.l2(0.001), activation='relu', input_shape=[len(train_dataset.keys())]), #inputshape=[3]\n",
        "    layers.Dense(24, kernel_regularizer=regularizers.l2(0.001), activation='relu'),\n",
        "    layers.Dense(24, kernel_regularizer=regularizers.l2(0.001), activation='relu'),\n",
        "    layers.Dense(16, kernel_regularizer=regularizers.l2(0.001), activation='relu'),\n",
        "    layers.Dense(11)\n",
        "  ])\n",
        "\n",
        "#compile model - using Adam optimizer\n",
        "optimizer = keras.optimizers.Adam(learning_rate=0.001)\n",
        "loss_function = tf.keras.losses.CategoricalCrossentropy(from_logits=True)\n",
        "\n",
        "model.compile(loss=loss_function,\n",
        "                optimizer=optimizer,\n",
        "                metrics=['accuracy'])\n",
        "\n"
      ]
    },
    {
      "cell_type": "code",
      "execution_count": null,
      "metadata": {
        "colab": {
          "base_uri": "https://localhost:8080/"
        },
        "id": "MatFw5GxiU5m",
        "outputId": "9530b72b-8f7c-4009-baa6-326f10e03449"
      },
      "outputs": [
        {
          "name": "stdout",
          "output_type": "stream",
          "text": [
            "Model: \"sequential_2\"\n",
            "_________________________________________________________________\n",
            " Layer (type)                Output Shape              Param #   \n",
            "=================================================================\n",
            " dense_10 (Dense)            (None, 3)                 12        \n",
            "                                                                 \n",
            " batch_normalization_4 (Bat  (None, 3)                 12        \n",
            " chNormalization)                                                \n",
            "                                                                 \n",
            " dropout_4 (Dropout)         (None, 3)                 0         \n",
            "                                                                 \n",
            " dense_11 (Dense)            (None, 24)                96        \n",
            "                                                                 \n",
            " batch_normalization_5 (Bat  (None, 24)                96        \n",
            " chNormalization)                                                \n",
            "                                                                 \n",
            " dropout_5 (Dropout)         (None, 24)                0         \n",
            "                                                                 \n",
            " dense_12 (Dense)            (None, 24)                600       \n",
            "                                                                 \n",
            " batch_normalization_6 (Bat  (None, 24)                96        \n",
            " chNormalization)                                                \n",
            "                                                                 \n",
            " dropout_6 (Dropout)         (None, 24)                0         \n",
            "                                                                 \n",
            " dense_13 (Dense)            (None, 16)                400       \n",
            "                                                                 \n",
            " batch_normalization_7 (Bat  (None, 16)                64        \n",
            " chNormalization)                                                \n",
            "                                                                 \n",
            " dropout_7 (Dropout)         (None, 16)                0         \n",
            "                                                                 \n",
            " dense_14 (Dense)            (None, 11)                187       \n",
            "                                                                 \n",
            "=================================================================\n",
            "Total params: 1563 (6.11 KB)\n",
            "Trainable params: 1429 (5.58 KB)\n",
            "Non-trainable params: 134 (536.00 Byte)\n",
            "_________________________________________________________________\n"
          ]
        }
      ],
      "source": [
        "#will be remove in .py file\n",
        "#model summary\n",
        "model.summary(0)"
      ]
    },
    {
      "cell_type": "code",
      "execution_count": null,
      "metadata": {
        "colab": {
          "base_uri": "https://localhost:8080/"
        },
        "id": "fl22l6HAifvA",
        "outputId": "3f1ca6d6-7076-485c-fedc-fdd9ca72560d"
      },
      "outputs": [
        {
          "name": "stdout",
          "output_type": "stream",
          "text": [
            "\n",
            "Epoch: 0, accuracy:0.0677,  loss:2.8648,  val_accuracy:0.2559,  val_loss:2.6325,  \n",
            "....................................................................................................\n",
            "Epoch: 100, accuracy:0.3260,  loss:1.9376,  val_accuracy:0.3152,  val_loss:1.8503,  \n",
            "....................................................................................................\n",
            "Epoch: 200, accuracy:0.5135,  loss:1.3431,  val_accuracy:0.5686,  val_loss:1.2306,  \n",
            "....................................................................................................\n",
            "Epoch: 300, accuracy:0.6078,  loss:1.0897,  val_accuracy:0.6687,  val_loss:0.9315,  \n",
            "....................................................................................................\n",
            "Epoch: 400, accuracy:0.6341,  loss:1.0144,  val_accuracy:0.7046,  val_loss:0.8399,  \n",
            "....................................................................................................\n",
            "Epoch: 500, accuracy:0.6545,  loss:0.9671,  val_accuracy:0.7367,  val_loss:0.7818,  \n",
            "....................................................................................................\n",
            "Epoch: 600, accuracy:0.6638,  loss:0.9101,  val_accuracy:0.7590,  val_loss:0.7605,  \n",
            "....................................................................................................\n",
            "Epoch: 700, accuracy:0.6616,  loss:0.8868,  val_accuracy:0.7726,  val_loss:0.7678,  \n",
            "....................................................................................................\n",
            "Epoch: 800, accuracy:0.6740,  loss:0.8594,  val_accuracy:0.7775,  val_loss:0.7223,  \n",
            "....................................................................................................\n",
            "Epoch: 900, accuracy:0.6755,  loss:0.8561,  val_accuracy:0.7837,  val_loss:0.6843,  \n",
            "....................................................................................................\n",
            "Epoch: 1000, accuracy:0.6867,  loss:0.8309,  val_accuracy:0.7849,  val_loss:0.6574,  \n",
            "....................................................................................................\n",
            "Epoch: 1100, accuracy:0.6845,  loss:0.8266,  val_accuracy:0.7800,  val_loss:0.6691,  \n",
            "....................................................................................................\n",
            "Epoch: 1200, accuracy:0.6817,  loss:0.8014,  val_accuracy:0.7874,  val_loss:0.6365,  \n",
            "....................................................................................................\n",
            "Epoch: 1300, accuracy:0.6938,  loss:0.7972,  val_accuracy:0.7775,  val_loss:0.6638,  \n",
            "....................................................................................................\n",
            "Epoch: 1400, accuracy:0.6882,  loss:0.7924,  val_accuracy:0.7960,  val_loss:0.6140,  \n",
            "....................................................................................................\n",
            "Epoch: 1500, accuracy:0.6823,  loss:0.7893,  val_accuracy:0.7886,  val_loss:0.6345,  \n",
            "....................................................................................................\n",
            "Epoch: 1600, accuracy:0.7009,  loss:0.7732,  val_accuracy:0.7750,  val_loss:0.6251,  \n",
            "....................................................................................................\n",
            "Epoch: 1700, accuracy:0.6904,  loss:0.7789,  val_accuracy:0.7849,  val_loss:0.6269,  \n",
            "....................................................................................................\n",
            "Epoch: 1800, accuracy:0.6898,  loss:0.7783,  val_accuracy:0.7837,  val_loss:0.6041,  \n",
            "....................................................................................................\n",
            "Epoch: 1900, accuracy:0.7000,  loss:0.7609,  val_accuracy:0.7763,  val_loss:0.6214,  \n",
            "....................................................................................................\n",
            "Epoch: 2000, accuracy:0.6997,  loss:0.7650,  val_accuracy:0.7750,  val_loss:0.6234,  \n",
            "....................................................................................................\n",
            "Epoch: 2100, accuracy:0.6833,  loss:0.7749,  val_accuracy:0.7849,  val_loss:0.5991,  \n",
            "....................................................................................................\n",
            "Epoch: 2200, accuracy:0.7068,  loss:0.7616,  val_accuracy:0.7886,  val_loss:0.6032,  \n",
            "....................................................................................................\n",
            "Epoch: 2300, accuracy:0.7021,  loss:0.7831,  val_accuracy:0.7763,  val_loss:0.6121,  \n",
            "....................................................................................................\n",
            "Epoch: 2400, accuracy:0.6910,  loss:0.7628,  val_accuracy:0.7676,  val_loss:0.6101,  \n",
            "....................................................................................................\n",
            "Epoch: 2500, accuracy:0.6987,  loss:0.7592,  val_accuracy:0.7775,  val_loss:0.6076,  \n",
            "....................................................................................................\n",
            "Epoch: 2600, accuracy:0.7077,  loss:0.7382,  val_accuracy:0.7701,  val_loss:0.6194,  \n",
            "....................................................................................................\n",
            "Epoch: 2700, accuracy:0.7040,  loss:0.7689,  val_accuracy:0.7862,  val_loss:0.5908,  \n",
            "....................................................................................................\n",
            "Epoch: 2800, accuracy:0.7043,  loss:0.7602,  val_accuracy:0.7750,  val_loss:0.5983,  \n",
            "....................................................................................................\n",
            "Epoch: 2900, accuracy:0.6956,  loss:0.7638,  val_accuracy:0.7787,  val_loss:0.5985,  \n",
            "...................................................................................................."
          ]
        }
      ],
      "source": [
        "#Training model\n",
        "from keras.optimizers import Adam\n",
        "from keras.losses import CategoricalCrossentropy\n",
        "import matplotlib.pyplot as plt\n",
        "#compile model - using Adam optimizer\n",
        "optimizer = keras.optimizers.Adam(learning_rate=0.001)\n",
        "loss_function = tf.keras.losses.CategoricalCrossentropy(from_logits=True)\n",
        "\n",
        "model.compile(loss=loss_function,\n",
        "                optimizer=optimizer,\n",
        "                metrics=['accuracy'])\n",
        "\n",
        "history = model.fit(x=train_dataset, y=train_labels,\n",
        "                    validation_split=0.2,\n",
        "                    epochs=3000,\n",
        "                    batch_size=2048,\n",
        "                    verbose=0,\n",
        "                    callbacks=[tfdocs.modeling.EpochDots()],\n",
        "                    shuffle=True)\n"
      ]
    },
    {
      "cell_type": "markdown",
      "metadata": {
        "id": "A82m2Fbe0kYd"
      },
      "source": [
        "#Save model"
      ]
    },
    {
      "cell_type": "code",
      "execution_count": null,
      "metadata": {
        "colab": {
          "base_uri": "https://localhost:8080/"
        },
        "id": "qBMrZ1GHjQBL",
        "outputId": "d467d294-2511-4707-cbff-dfa384c6b078"
      },
      "outputs": [
        {
          "name": "stdout",
          "output_type": "stream",
          "text": [
            "Requirement already satisfied: pyyaml in /usr/local/lib/python3.10/dist-packages (6.0.1)\n",
            "Requirement already satisfied: h5py in /usr/local/lib/python3.10/dist-packages (3.9.0)\n",
            "Requirement already satisfied: numpy>=1.17.3 in /usr/local/lib/python3.10/dist-packages (from h5py) (1.23.5)\n"
          ]
        }
      ],
      "source": [
        "#save model\n",
        "#Install PyDrive library into Google Colab notebook\n",
        "!pip install -U -q PyDrive\n",
        "from pydrive.auth import GoogleAuth\n",
        "from pydrive.drive import GoogleDrive\n",
        "from google.colab import auth\n",
        "from oauth2client.client import GoogleCredentials\n",
        "\n",
        "#Authenticate and create the PyDrive client\n",
        "auth.authenticate_user()\n",
        "gauth = GoogleAuth()\n",
        "gauth.credentials = GoogleCredentials.get_application_default()\n",
        "drive = GoogleDrive(gauth)\n",
        "\n",
        "!pip install pyyaml h5py  # Required to save models in HDF5 format\n",
        "\n",
        "# Save Model or weights on google drive and create on Colab directory in Google Drive\n",
        "\n",
        "# Save the entire model to a HDF5 file.\n",
        "# The '.h5' extension indicates that the model should be saved to HDF5.\n",
        "model.save('colormodel.keras')\n",
        "model_file = drive.CreateFile({'title' : 'colormodel.keras'}) # colormodel_acu_  .h5 is the name of the model uploaded to Drive\n",
        "model_file.SetContentFile('colormodel.keras')\n",
        "model_file.Upload()\n",
        "\n"
      ]
    },
    {
      "cell_type": "code",
      "execution_count": null,
      "metadata": {
        "colab": {
          "base_uri": "https://localhost:8080/"
        },
        "id": "r7yHNh2MY6u_",
        "outputId": "ca1d8f7e-e303-4198-f695-aa18f5b189f5"
      },
      "outputs": [
        {
          "name": "stdout",
          "output_type": "stream",
          "text": [
            "Requirement already satisfied: joblib in /usr/local/lib/python3.10/dist-packages (1.3.2)\n"
          ]
        },
        {
          "data": {
            "text/plain": [
              "['color.pkl']"
            ]
          },
          "execution_count": 14,
          "metadata": {},
          "output_type": "execute_result"
        }
      ],
      "source": [
        "!pip install joblib\n",
        "import joblib\n",
        "\n",
        "# Assuming 'model' is the variable containing your trained model\n",
        "# Replace 'your_model.pkl' with the desired file name\n",
        "joblib.dump(model, 'color.pkl')\n",
        "\n",
        "\n"
      ]
    },
    {
      "cell_type": "code",
      "execution_count": null,
      "metadata": {
        "colab": {
          "base_uri": "https://localhost:8080/",
          "height": 17
        },
        "id": "IG-Qr9bJZaPk",
        "outputId": "dcf6fd99-a305-4c33-c631-1c76bdf71e4e"
      },
      "outputs": [
        {
          "data": {
            "application/javascript": [
              "\n",
              "    async function download(id, filename, size) {\n",
              "      if (!google.colab.kernel.accessAllowed) {\n",
              "        return;\n",
              "      }\n",
              "      const div = document.createElement('div');\n",
              "      const label = document.createElement('label');\n",
              "      label.textContent = `Downloading \"${filename}\": `;\n",
              "      div.appendChild(label);\n",
              "      const progress = document.createElement('progress');\n",
              "      progress.max = size;\n",
              "      div.appendChild(progress);\n",
              "      document.body.appendChild(div);\n",
              "\n",
              "      const buffers = [];\n",
              "      let downloaded = 0;\n",
              "\n",
              "      const channel = await google.colab.kernel.comms.open(id);\n",
              "      // Send a message to notify the kernel that we're ready.\n",
              "      channel.send({})\n",
              "\n",
              "      for await (const message of channel.messages) {\n",
              "        // Send a message to notify the kernel that we're ready.\n",
              "        channel.send({})\n",
              "        if (message.buffers) {\n",
              "          for (const buffer of message.buffers) {\n",
              "            buffers.push(buffer);\n",
              "            downloaded += buffer.byteLength;\n",
              "            progress.value = downloaded;\n",
              "          }\n",
              "        }\n",
              "      }\n",
              "      const blob = new Blob(buffers, {type: 'application/binary'});\n",
              "      const a = document.createElement('a');\n",
              "      a.href = window.URL.createObjectURL(blob);\n",
              "      a.download = filename;\n",
              "      div.appendChild(a);\n",
              "      a.click();\n",
              "      div.remove();\n",
              "    }\n",
              "  "
            ],
            "text/plain": [
              "<IPython.core.display.Javascript object>"
            ]
          },
          "metadata": {},
          "output_type": "display_data"
        },
        {
          "data": {
            "application/javascript": [
              "download(\"download_ba667de4-16c8-4055-87cb-4c9fff2caac8\", \"color.pkl\", 52370)"
            ],
            "text/plain": [
              "<IPython.core.display.Javascript object>"
            ]
          },
          "metadata": {},
          "output_type": "display_data"
        }
      ],
      "source": [
        "from google.colab import files\n",
        "\n",
        "files.download('color.pkl')\n"
      ]
    },
    {
      "cell_type": "code",
      "execution_count": null,
      "metadata": {
        "colab": {
          "base_uri": "https://localhost:8080/"
        },
        "id": "kZgLl3tDjgtG",
        "outputId": "e0022f9b-987d-4f85-b428-ccaf5604036b"
      },
      "outputs": [
        {
          "data": {
            "text/plain": [
              "GoogleDriveFile({'id': '1lNW-RjpGB0VAWjjMqAwK3H_IzVenJd4c'})"
            ]
          },
          "execution_count": 26,
          "metadata": {},
          "output_type": "execute_result"
        }
      ],
      "source": [
        "# download to google drive\n",
        "drive.CreateFile({'id': model_file.get('id')}) ### very important to run this last cell for loading the model in new notebook"
      ]
    },
    {
      "cell_type": "code",
      "execution_count": null,
      "metadata": {
        "id": "YGz1JUqyjj3l"
      },
      "outputs": [],
      "source": [
        "#Load model from google drive into colab\n",
        "file_obj = drive.CreateFile({'id': '1lNW-RjpGB0VAWjjMqAwK3H_IzVenJd4c'})\n",
        "file_obj.GetContentFile('colormodel.keras') #colormodel_trained.h5 is the name of model uploaded to colab"
      ]
    },
    {
      "cell_type": "code",
      "execution_count": null,
      "metadata": {
        "colab": {
          "base_uri": "https://localhost:8080/",
          "height": 197
        },
        "id": "84cMh5ivjngp",
        "outputId": "f942124a-b22a-4116-bb3b-e4a76ea0f3c8"
      },
      "outputs": [
        {
          "ename": "NameError",
          "evalue": "ignored",
          "output_type": "error",
          "traceback": [
            "\u001b[0;31m---------------------------------------------------------------------------\u001b[0m",
            "\u001b[0;31mNameError\u001b[0m                                 Traceback (most recent call last)",
            "\u001b[0;32m<ipython-input-29-de061fb18736>\u001b[0m in \u001b[0;36m<cell line: 2>\u001b[0;34m()\u001b[0m\n\u001b[1;32m      1\u001b[0m \u001b[0;31m#will be remove in .py\u001b[0m\u001b[0;34m\u001b[0m\u001b[0;34m\u001b[0m\u001b[0m\n\u001b[0;32m----> 2\u001b[0;31m \u001b[0mls\u001b[0m \u001b[0;31m#check for the saved model on googledrive\u001b[0m\u001b[0;34m\u001b[0m\u001b[0;34m\u001b[0m\u001b[0m\n\u001b[0m",
            "\u001b[0;31mNameError\u001b[0m: name 'ls' is not defined"
          ]
        }
      ],
      "source": [
        "#will be remove in .py\n",
        "ls #check for the saved model on googledrive"
      ]
    },
    {
      "cell_type": "markdown",
      "metadata": {
        "id": "NPQDkdMf0b-K"
      },
      "source": [
        "#Img testing cell"
      ]
    },
    {
      "cell_type": "code",
      "execution_count": null,
      "metadata": {
        "colab": {
          "base_uri": "https://localhost:8080/",
          "height": 252
        },
        "id": "syXJPwZYjxPe",
        "outputId": "24927b97-381e-4547-9bf3-bebfa709e7a0"
      },
      "outputs": [
        {
          "ename": "NameError",
          "evalue": "ignored",
          "output_type": "error",
          "traceback": [
            "\u001b[0;31m---------------------------------------------------------------------------\u001b[0m",
            "\u001b[0;31mNameError\u001b[0m                                 Traceback (most recent call last)",
            "\u001b[0;32m<ipython-input-1-e81f2c509735>\u001b[0m in \u001b[0;36m<cell line: 6>\u001b[0;34m()\u001b[0m\n\u001b[1;32m      4\u001b[0m \u001b[0;31m#load model to run prediction\u001b[0m\u001b[0;34m\u001b[0m\u001b[0;34m\u001b[0m\u001b[0m\n\u001b[1;32m      5\u001b[0m \u001b[0;31m# Recreate the exact same model, including its weights and the optimizer\u001b[0m\u001b[0;34m\u001b[0m\u001b[0;34m\u001b[0m\u001b[0m\n\u001b[0;32m----> 6\u001b[0;31m \u001b[0mmodel\u001b[0m \u001b[0;34m=\u001b[0m \u001b[0mtf\u001b[0m\u001b[0;34m.\u001b[0m\u001b[0mkeras\u001b[0m\u001b[0;34m.\u001b[0m\u001b[0mmodels\u001b[0m\u001b[0;34m.\u001b[0m\u001b[0mload_model\u001b[0m\u001b[0;34m(\u001b[0m\u001b[0;34m'colormodel.keras'\u001b[0m\u001b[0;34m)\u001b[0m \u001b[0;31m#very important\u001b[0m\u001b[0;34m\u001b[0m\u001b[0;34m\u001b[0m\u001b[0m\n\u001b[0m\u001b[1;32m      7\u001b[0m \u001b[0;34m\u001b[0m\u001b[0m\n\u001b[1;32m      8\u001b[0m \u001b[0;31m# Load the image using PIL (Pillow)\u001b[0m\u001b[0;34m\u001b[0m\u001b[0;34m\u001b[0m\u001b[0m\n",
            "\u001b[0;31mNameError\u001b[0m: name 'tf' is not defined"
          ]
        }
      ],
      "source": [
        "import numpy as np\n",
        "from PIL import Image\n",
        "\n",
        "#load model to run prediction\n",
        "# Recreate the exact same model, including its weights and the optimizer\n",
        "model = tf.keras.models.load_model('colormodel.keras') #very important\n",
        "\n",
        "# Load the image using PIL (Pillow)\n",
        "image_path = '/content/drive/MyDrive/Color/test_set/Red_Rose.JPG'\n",
        "image = Image.open(image_path)\n",
        "\n",
        "# new_size = (10,10)\n",
        "# image = image.resize(new_size)\n",
        "\n",
        "plt.imshow(image) #remove in .py\n",
        "plt.show()        #remove in .py\n",
        "\n",
        "# Convert the image to a NumPy array\n",
        "image_array = np.array(image)\n",
        "\n",
        "# Extract the red, green, and blue channels into separate arrays\n",
        "red_channel = image_array[:, :, 0]\n",
        "green_channel = image_array[:, :, 1]\n",
        "blue_channel = image_array[:, :, 2]\n",
        "\n",
        "# Create a DataFrame with the red, green, and blue channels\n",
        "import pandas as pd\n",
        "\n",
        "image_df = pd.DataFrame({'red': red_channel.ravel(),\n",
        "                         'green': green_channel.ravel(),\n",
        "                         'blue': blue_channel.ravel()})\n",
        "\n",
        "# Display the DataFrame\n",
        "print(image_df)\n",
        "\n",
        "#Predict the data:\n",
        "predictions = model.predict(image_df)\n",
        "\n",
        "#selecting class with highest confidence\n",
        "actual_encoded_train_labels = np.argmax(train_labels.to_numpy(), axis=1) #train_labels were originally in one-hot\n",
        "\n",
        "predicted_encoded_train_labels = np.argmax(predictions, axis=1)\n",
        "\n",
        "predicted_encoded_train_labels = pd.DataFrame(predicted_encoded_train_labels, columns=['Labels'])\n",
        "predicted_encoded_train_labels\n",
        "\n",
        "predicted_encoded_train_labels.to_csv('predicted_labels.csv', index =False)\n"
      ]
    },
    {
      "cell_type": "markdown",
      "metadata": {
        "id": "THJ0vGeVjje4"
      },
      "source": []
    }
  ],
  "metadata": {
    "colab": {
      "collapsed_sections": [
        "A82m2Fbe0kYd",
        "NPQDkdMf0b-K"
      ],
      "provenance": [],
      "include_colab_link": true
    },
    "kernelspec": {
      "display_name": "Python 3",
      "name": "python3"
    },
    "language_info": {
      "name": "python"
    }
  },
  "nbformat": 4,
  "nbformat_minor": 0
}